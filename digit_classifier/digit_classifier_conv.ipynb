{
  "nbformat": 4,
  "nbformat_minor": 0,
  "metadata": {
    "colab": {
      "name": "digit_classifier_conv.ipynb",
      "provenance": [],
      "authorship_tag": "ABX9TyNixcd5L5hPrC/3YpG4GG67",
      "include_colab_link": true
    },
    "kernelspec": {
      "name": "python3",
      "display_name": "Python 3"
    },
    "accelerator": "GPU"
  },
  "cells": [
    {
      "cell_type": "markdown",
      "metadata": {
        "id": "view-in-github",
        "colab_type": "text"
      },
      "source": [
        "<a href=\"https://colab.research.google.com/github/saharshleo/sudokuSolver/blob/master/digit_classifier/digit_classifier_conv.ipynb\" target=\"_parent\"><img src=\"https://colab.research.google.com/assets/colab-badge.svg\" alt=\"Open In Colab\"/></a>"
      ]
    },
    {
      "cell_type": "code",
      "metadata": {
        "id": "EQELR5-hGf2Z",
        "colab_type": "code",
        "colab": {
          "base_uri": "https://localhost:8080/",
          "height": 35
        },
        "outputId": "9a73ee37-5d1d-4643-e27b-410a4baf67e7"
      },
      "source": [
        "import tensorflow as tf\n",
        "from tensorflow.keras.layers import Dense, Dropout, Flatten, Conv2D, MaxPool2D, BatchNormalization\n",
        "from tensorflow.keras.optimizers import Adam\n",
        "from tensorflow.keras.utils import to_categorical # convert to one-hot-encoding\n",
        "from tensorflow.keras.preprocessing.image import ImageDataGenerator\n",
        "from tensorflow.keras.callbacks import LearningRateScheduler\n",
        "\n",
        "import numpy as np\n",
        "%matplotlib inline\n",
        "import matplotlib.pyplot as plt\n",
        "\n",
        "print(tf.__version__)"
      ],
      "execution_count": 1,
      "outputs": [
        {
          "output_type": "stream",
          "text": [
            "2.2.0\n"
          ],
          "name": "stdout"
        }
      ]
    },
    {
      "cell_type": "code",
      "metadata": {
        "id": "LuLtiL5YHET-",
        "colab_type": "code",
        "colab": {
          "base_uri": "https://localhost:8080/",
          "height": 88
        },
        "outputId": "133e3e7d-ce62-4bba-fe9c-2dd301118c9a"
      },
      "source": [
        "# load data\n",
        "mnist = tf.keras.datasets.mnist\n",
        "(x_train, y_train), (x_test, y_test) = mnist.load_data()\n",
        "print(x_train.shape)\n",
        "print(x_test.shape)"
      ],
      "execution_count": 2,
      "outputs": [
        {
          "output_type": "stream",
          "text": [
            "Downloading data from https://storage.googleapis.com/tensorflow/tf-keras-datasets/mnist.npz\n",
            "11493376/11490434 [==============================] - 0s 0us/step\n",
            "(60000, 28, 28)\n",
            "(10000, 28, 28)\n"
          ],
          "name": "stdout"
        }
      ]
    },
    {
      "cell_type": "code",
      "metadata": {
        "id": "SDpMsTpfHPh0",
        "colab_type": "code",
        "colab": {}
      },
      "source": [
        "# normalize data\n",
        "x_train = tf.keras.utils.normalize(x_train, axis=1)\n",
        "x_test = tf.keras.utils.normalize(x_test, axis=1)"
      ],
      "execution_count": 3,
      "outputs": []
    },
    {
      "cell_type": "code",
      "metadata": {
        "id": "-teFclUbHTcz",
        "colab_type": "code",
        "colab": {
          "base_uri": "https://localhost:8080/",
          "height": 88
        },
        "outputId": "675ba5a4-813b-4c37-97af-4a68264d0a2d"
      },
      "source": [
        "# Reshape\n",
        "X_train = x_train.reshape(-1,28,28,1)\n",
        "X_test = x_test.reshape(-1,28,28,1)\n",
        "\n",
        "print(X_train.shape)\n",
        "print(X_test.shape)\n",
        "\n",
        "# Encode labels to one hot vectors (ex : 2 -> [0,0,1,0,0,0,0,0,0,0])\n",
        "Y_train_value = y_train # keep the origianl label\n",
        "Y_train = to_categorical(y_train, num_classes = 10)\n",
        "# Y_train = tf.keras.backend.one_hot(y_train, num_classes=10)\n",
        "print(Y_train.shape)\n",
        "\n",
        "Y_test_value = y_test # keep the origianl label\n",
        "Y_test = to_categorical(y_test, num_classes = 10)\n",
        "# Y_test = tf.keras.backend.one_hot(y_test, num_classes=10)\n",
        "print(Y_test.shape)"
      ],
      "execution_count": 4,
      "outputs": [
        {
          "output_type": "stream",
          "text": [
            "(60000, 28, 28, 1)\n",
            "(10000, 28, 28, 1)\n",
            "(60000, 10)\n",
            "(10000, 10)\n"
          ],
          "name": "stdout"
        }
      ]
    },
    {
      "cell_type": "code",
      "metadata": {
        "id": "Cr4hc17RIDUf",
        "colab_type": "code",
        "colab": {}
      },
      "source": [
        "# # With data augmentation to prevent overfitting\n",
        "# datagen = ImageDataGenerator(\n",
        "#         rotation_range=10,  # randomly rotate images in the range (degrees, 0 to 180)\n",
        "#         zoom_range = 0.1, # Randomly zoom image \n",
        "#         width_shift_range=0.1,  # randomly shift images horizontally (fraction of total width)\n",
        "#         height_shift_range=0.1)  # randomly shift images vertically (fraction of total height)\n",
        "\n",
        "# datagen.fit(X_train)\n",
        "\n",
        "\n",
        "# https://medium.com/@lvarruda/how-to-get-top-2-position-on-kaggles-mnist-digit-recognizer-48185d80a2d4\n",
        "from tensorflow.keras.callbacks import ReduceLROnPlateau\n",
        "datagen = ImageDataGenerator(\n",
        "        featurewise_center=False,\n",
        "        samplewise_center=False,\n",
        "        featurewise_std_normalization=False,\n",
        "        samplewise_std_normalization=False,\n",
        "        zca_whitening=False,\n",
        "        rotation_range=10,\n",
        "        zoom_range=0.1,\n",
        "        width_shift_range=0.1,\n",
        "        height_shift_range=0.1,\n",
        "        horizontal_flip=False,\n",
        "        vertical_flip=False)  # , preprocessing_function=random_add_or_erase_spot)\n",
        "\n",
        "annealer = ReduceLROnPlateau(monitor='val_accuracy', patience=1, verbose=2, factor=0.5, min_lr=0.0000001) #patience=2"
      ],
      "execution_count": 16,
      "outputs": []
    },
    {
      "cell_type": "code",
      "metadata": {
        "id": "3VEGnq_vHsX2",
        "colab_type": "code",
        "colab": {}
      },
      "source": [
        "# Callback for stop training after threshold accuracy\n",
        "ACCURACY_THRESHOLD = 0.99\n",
        "class CustomCallback(tf.keras.callbacks.Callback):\n",
        "    def on_epoch_end(self, epoch, logs={}):\n",
        "        if(logs.get('accuracy') > ACCURACY_THRESHOLD):\n",
        "            print(\"\\nReached %2.2f%% accuracy, stopping training!\"%(ACCURACY_THRESHOLD*100))\n",
        "            self.model.stop_training = True\n",
        "            \n",
        "callbacks = CustomCallback()\n",
        "\n",
        "es = tf.keras.callbacks.EarlyStopping(monitor='val_loss', mode='min', verbose=1)\n",
        "\n",
        "# Set a learning rate annealer\n",
        "annealer = LearningRateScheduler(lambda x: 1e-3 * 0.9 ** x)"
      ],
      "execution_count": null,
      "outputs": []
    },
    {
      "cell_type": "code",
      "metadata": {
        "id": "tHZCtUMWHnZJ",
        "colab_type": "code",
        "colab": {
          "base_uri": "https://localhost:8080/",
          "height": 589
        },
        "outputId": "7a20740a-687b-4afb-ece9-7d7ce7d9d259"
      },
      "source": [
        "# # Conv model https://www.kaggle.com/dingli/digits-recognition-with-cnn-keras\n",
        "# classify_digit_conv.model\n",
        "# model = tf.keras.models.Sequential()\n",
        "# model.add(Conv2D(filters=16, kernel_size=(3,3), activation='relu', input_shape=(28, 28, 1)))\n",
        "# model.add(BatchNormalization())\n",
        "# model.add(Conv2D(filters = 16, kernel_size = (3, 3), activation='relu'))\n",
        "# model.add(BatchNormalization())\n",
        "# model.add(MaxPool2D(strides=(2,2)))\n",
        "# model.add(Dropout(0.25))\n",
        "\n",
        "# model.add(Conv2D(filters = 32, kernel_size = (3, 3), activation='relu'))\n",
        "# model.add(BatchNormalization())\n",
        "# model.add(Conv2D(filters = 32, kernel_size = (3, 3), activation='relu'))\n",
        "# model.add(BatchNormalization())\n",
        "# model.add(MaxPool2D(strides=(2,2)))\n",
        "# model.add(Dropout(0.25))\n",
        "\n",
        "# model.add(Flatten())\n",
        "# model.add(Dense(512, activation='relu'))\n",
        "# model.add(Dropout(0.25))\n",
        "# model.add(Dense(1024, activation='relu'))\n",
        "# model.add(Dropout(0.5))\n",
        "# model.add(Dense(10, activation='softmax'))\n",
        "# model.summary()\n",
        "\n",
        "# https://medium.com/@lvarruda/how-to-get-top-2-position-on-kaggles-mnist-digit-recognizer-48185d80a2d4\n",
        "# classify_digit_conv2.model\n",
        "model = tf.keras.models.Sequential()\n",
        "model.add(Conv2D(filters=32, kernel_size=(5, 5), padding='Valid', activation='relu', input_shape=(28, 28, 1)))\n",
        "model.add(Conv2D(filters=32, kernel_size=(3, 3), padding='Same', activation='relu'))\n",
        "model.add(MaxPool2D(pool_size=(2, 2)))\n",
        "model.add(Dropout(0.2))\n",
        "\n",
        "model.add(Conv2D(filters=64, kernel_size=(5, 5), padding='Valid', activation='relu'))\n",
        "model.add(Conv2D(filters=64, kernel_size=(3, 3), padding='Same', activation='relu'))\n",
        "model.add(MaxPool2D(pool_size=(2, 2), strides=(2, 2)))\n",
        "model.add(Dropout(0.2))\n",
        "\n",
        "model.add(Flatten())\n",
        "model.add(Dense(519, activation=\"relu\"))  # [[521,0.9962,70],[519,0.9969,51]\n",
        "model.add(Dropout(0.5))\n",
        "model.add(Dense(10, activation=\"softmax\"))\n",
        "\n",
        "model.summary()"
      ],
      "execution_count": 8,
      "outputs": [
        {
          "output_type": "stream",
          "text": [
            "Model: \"sequential\"\n",
            "_________________________________________________________________\n",
            "Layer (type)                 Output Shape              Param #   \n",
            "=================================================================\n",
            "conv2d (Conv2D)              (None, 24, 24, 32)        832       \n",
            "_________________________________________________________________\n",
            "conv2d_1 (Conv2D)            (None, 24, 24, 32)        9248      \n",
            "_________________________________________________________________\n",
            "max_pooling2d (MaxPooling2D) (None, 12, 12, 32)        0         \n",
            "_________________________________________________________________\n",
            "dropout (Dropout)            (None, 12, 12, 32)        0         \n",
            "_________________________________________________________________\n",
            "conv2d_2 (Conv2D)            (None, 8, 8, 64)          51264     \n",
            "_________________________________________________________________\n",
            "conv2d_3 (Conv2D)            (None, 8, 8, 64)          36928     \n",
            "_________________________________________________________________\n",
            "max_pooling2d_1 (MaxPooling2 (None, 4, 4, 64)          0         \n",
            "_________________________________________________________________\n",
            "dropout_1 (Dropout)          (None, 4, 4, 64)          0         \n",
            "_________________________________________________________________\n",
            "flatten (Flatten)            (None, 1024)              0         \n",
            "_________________________________________________________________\n",
            "dense (Dense)                (None, 519)               531975    \n",
            "_________________________________________________________________\n",
            "dropout_2 (Dropout)          (None, 519)               0         \n",
            "_________________________________________________________________\n",
            "dense_1 (Dense)              (None, 10)                5200      \n",
            "=================================================================\n",
            "Total params: 635,447\n",
            "Trainable params: 635,447\n",
            "Non-trainable params: 0\n",
            "_________________________________________________________________\n"
          ],
          "name": "stdout"
        }
      ]
    },
    {
      "cell_type": "code",
      "metadata": {
        "id": "L6124FYTIVjH",
        "colab_type": "code",
        "colab": {}
      },
      "source": [
        "# Define the optimizer\n",
        "optimizer = Adam(lr=1e-4)\n",
        "\n",
        "# Compile the model\n",
        "# model.compile(optimizer = optimizer , loss = \"categorical_crossentropy\", metrics=[\"accuracy\"])\n",
        "\n",
        "model.compile(loss='categorical_crossentropy', optimizer=Adam(lr=1e-3), metrics=[\"accuracy\"])"
      ],
      "execution_count": 9,
      "outputs": []
    },
    {
      "cell_type": "code",
      "metadata": {
        "id": "oqTXGb70H0cJ",
        "colab_type": "code",
        "colab": {}
      },
      "source": [
        "# Turn epochs to 30 to get 0.9967 accuracy\n",
        "epochs = 30\n",
        "# batch_size = 86\n",
        "batch_size = 64"
      ],
      "execution_count": 10,
      "outputs": []
    },
    {
      "cell_type": "code",
      "metadata": {
        "id": "e4_EtqjpIWqW",
        "colab_type": "code",
        "colab": {
          "base_uri": "https://localhost:8080/",
          "height": 1000
        },
        "outputId": "f1d8a0e0-9ee0-4cd8-b9e6-fc2c0a1c6da1"
      },
      "source": [
        "# # Fit the model\n",
        "# history = model.fit_generator(datagen.flow(X_train,Y_train, batch_size=batch_size),\n",
        "#                               epochs = epochs, validation_data = (X_test,Y_test),\n",
        "#                               verbose = 1, steps_per_epoch=X_train.shape[0] // batch_size\n",
        "#                               , callbacks=[annealer])\n",
        "\n",
        "history = model.fit_generator(datagen.flow(X_train,Y_train, batch_size=batch_size),\n",
        "                              epochs = epochs, validation_data = (X_test,Y_test),\n",
        "                              verbose = 1, steps_per_epoch=X_train.shape[0] // batch_size,\n",
        "                              callbacks=[annealer])"
      ],
      "execution_count": 17,
      "outputs": [
        {
          "output_type": "stream",
          "text": [
            "Epoch 1/30\n",
            "937/937 [==============================] - 29s 31ms/step - loss: 0.0283 - accuracy: 0.9914 - val_loss: 0.0165 - val_accuracy: 0.9954 - lr: 0.0010\n",
            "Epoch 2/30\n",
            "936/937 [============================>.] - ETA: 0s - loss: 0.0259 - accuracy: 0.9919\n",
            "Epoch 00002: ReduceLROnPlateau reducing learning rate to 0.0005000000237487257.\n",
            "937/937 [==============================] - 29s 31ms/step - loss: 0.0260 - accuracy: 0.9919 - val_loss: 0.0231 - val_accuracy: 0.9949 - lr: 0.0010\n",
            "Epoch 3/30\n",
            "937/937 [==============================] - 29s 31ms/step - loss: 0.0195 - accuracy: 0.9938 - val_loss: 0.0146 - val_accuracy: 0.9955 - lr: 5.0000e-04\n",
            "Epoch 4/30\n",
            "936/937 [============================>.] - ETA: 0s - loss: 0.0181 - accuracy: 0.9944\n",
            "Epoch 00004: ReduceLROnPlateau reducing learning rate to 0.0002500000118743628.\n",
            "937/937 [==============================] - 29s 30ms/step - loss: 0.0181 - accuracy: 0.9944 - val_loss: 0.0143 - val_accuracy: 0.9954 - lr: 5.0000e-04\n",
            "Epoch 5/30\n",
            "937/937 [==============================] - 29s 31ms/step - loss: 0.0138 - accuracy: 0.9957 - val_loss: 0.0143 - val_accuracy: 0.9958 - lr: 2.5000e-04\n",
            "Epoch 6/30\n",
            "937/937 [==============================] - ETA: 0s - loss: 0.0134 - accuracy: 0.9958\n",
            "Epoch 00006: ReduceLROnPlateau reducing learning rate to 0.0001250000059371814.\n",
            "937/937 [==============================] - 29s 31ms/step - loss: 0.0134 - accuracy: 0.9958 - val_loss: 0.0165 - val_accuracy: 0.9957 - lr: 2.5000e-04\n",
            "Epoch 7/30\n",
            "936/937 [============================>.] - ETA: 0s - loss: 0.0119 - accuracy: 0.9964\n",
            "Epoch 00007: ReduceLROnPlateau reducing learning rate to 6.25000029685907e-05.\n",
            "937/937 [==============================] - 29s 31ms/step - loss: 0.0119 - accuracy: 0.9964 - val_loss: 0.0140 - val_accuracy: 0.9959 - lr: 1.2500e-04\n",
            "Epoch 8/30\n",
            "937/937 [==============================] - 29s 31ms/step - loss: 0.0114 - accuracy: 0.9962 - val_loss: 0.0134 - val_accuracy: 0.9960 - lr: 6.2500e-05\n",
            "Epoch 9/30\n",
            "937/937 [==============================] - 28s 30ms/step - loss: 0.0110 - accuracy: 0.9963 - val_loss: 0.0137 - val_accuracy: 0.9961 - lr: 6.2500e-05\n",
            "Epoch 10/30\n",
            "937/937 [==============================] - 28s 30ms/step - loss: 0.0105 - accuracy: 0.9967 - val_loss: 0.0134 - val_accuracy: 0.9962 - lr: 6.2500e-05\n",
            "Epoch 11/30\n",
            "937/937 [==============================] - ETA: 0s - loss: 0.0116 - accuracy: 0.9967\n",
            "Epoch 00011: ReduceLROnPlateau reducing learning rate to 3.125000148429535e-05.\n",
            "937/937 [==============================] - 28s 30ms/step - loss: 0.0116 - accuracy: 0.9967 - val_loss: 0.0137 - val_accuracy: 0.9958 - lr: 6.2500e-05\n",
            "Epoch 12/30\n",
            "936/937 [============================>.] - ETA: 0s - loss: 0.0106 - accuracy: 0.9966\n",
            "Epoch 00012: ReduceLROnPlateau reducing learning rate to 1.5625000742147677e-05.\n",
            "937/937 [==============================] - 28s 30ms/step - loss: 0.0106 - accuracy: 0.9966 - val_loss: 0.0136 - val_accuracy: 0.9962 - lr: 3.1250e-05\n",
            "Epoch 13/30\n",
            "937/937 [==============================] - 30s 32ms/step - loss: 0.0102 - accuracy: 0.9968 - val_loss: 0.0137 - val_accuracy: 0.9964 - lr: 1.5625e-05\n",
            "Epoch 14/30\n",
            "936/937 [============================>.] - ETA: 0s - loss: 0.0107 - accuracy: 0.9967\n",
            "Epoch 00014: ReduceLROnPlateau reducing learning rate to 7.812500371073838e-06.\n",
            "937/937 [==============================] - 30s 32ms/step - loss: 0.0107 - accuracy: 0.9967 - val_loss: 0.0136 - val_accuracy: 0.9961 - lr: 1.5625e-05\n",
            "Epoch 15/30\n",
            "936/937 [============================>.] - ETA: 0s - loss: 0.0108 - accuracy: 0.9965\n",
            "Epoch 00015: ReduceLROnPlateau reducing learning rate to 3.906250185536919e-06.\n",
            "937/937 [==============================] - 29s 31ms/step - loss: 0.0108 - accuracy: 0.9965 - val_loss: 0.0135 - val_accuracy: 0.9960 - lr: 7.8125e-06\n",
            "Epoch 16/30\n",
            "937/937 [==============================] - ETA: 0s - loss: 0.0102 - accuracy: 0.9968\n",
            "Epoch 00016: ReduceLROnPlateau reducing learning rate to 1.9531250927684596e-06.\n",
            "937/937 [==============================] - 28s 30ms/step - loss: 0.0102 - accuracy: 0.9968 - val_loss: 0.0135 - val_accuracy: 0.9960 - lr: 3.9063e-06\n",
            "Epoch 17/30\n",
            "937/937 [==============================] - ETA: 0s - loss: 0.0106 - accuracy: 0.9970\n",
            "Epoch 00017: ReduceLROnPlateau reducing learning rate to 9.765625463842298e-07.\n",
            "937/937 [==============================] - 29s 31ms/step - loss: 0.0106 - accuracy: 0.9970 - val_loss: 0.0135 - val_accuracy: 0.9960 - lr: 1.9531e-06\n",
            "Epoch 18/30\n",
            "936/937 [============================>.] - ETA: 0s - loss: 0.0115 - accuracy: 0.9967\n",
            "Epoch 00018: ReduceLROnPlateau reducing learning rate to 4.882812731921149e-07.\n",
            "937/937 [==============================] - 29s 31ms/step - loss: 0.0115 - accuracy: 0.9967 - val_loss: 0.0135 - val_accuracy: 0.9960 - lr: 9.7656e-07\n",
            "Epoch 19/30\n",
            "936/937 [============================>.] - ETA: 0s - loss: 0.0090 - accuracy: 0.9972\n",
            "Epoch 00019: ReduceLROnPlateau reducing learning rate to 2.4414063659605745e-07.\n",
            "937/937 [==============================] - 29s 31ms/step - loss: 0.0090 - accuracy: 0.9972 - val_loss: 0.0135 - val_accuracy: 0.9960 - lr: 4.8828e-07\n",
            "Epoch 20/30\n",
            "937/937 [==============================] - ETA: 0s - loss: 0.0099 - accuracy: 0.9968\n",
            "Epoch 00020: ReduceLROnPlateau reducing learning rate to 1.2207031829802872e-07.\n",
            "937/937 [==============================] - 28s 30ms/step - loss: 0.0099 - accuracy: 0.9968 - val_loss: 0.0135 - val_accuracy: 0.9960 - lr: 2.4414e-07\n",
            "Epoch 21/30\n",
            "936/937 [============================>.] - ETA: 0s - loss: 0.0103 - accuracy: 0.9971\n",
            "Epoch 00021: ReduceLROnPlateau reducing learning rate to 1e-07.\n",
            "937/937 [==============================] - 27s 29ms/step - loss: 0.0104 - accuracy: 0.9971 - val_loss: 0.0135 - val_accuracy: 0.9960 - lr: 1.2207e-07\n",
            "Epoch 22/30\n",
            "936/937 [============================>.] - ETA: 0s - loss: 0.0096 - accuracy: 0.9969\n",
            "Epoch 00022: ReduceLROnPlateau reducing learning rate to 1e-07.\n",
            "937/937 [==============================] - 28s 30ms/step - loss: 0.0095 - accuracy: 0.9969 - val_loss: 0.0135 - val_accuracy: 0.9960 - lr: 1.0000e-07\n",
            "Epoch 23/30\n",
            "937/937 [==============================] - ETA: 0s - loss: 0.0102 - accuracy: 0.9969\n",
            "Epoch 00023: ReduceLROnPlateau reducing learning rate to 1e-07.\n",
            "937/937 [==============================] - 28s 30ms/step - loss: 0.0102 - accuracy: 0.9969 - val_loss: 0.0135 - val_accuracy: 0.9960 - lr: 1.0000e-07\n",
            "Epoch 24/30\n",
            "937/937 [==============================] - ETA: 0s - loss: 0.0099 - accuracy: 0.9968\n",
            "Epoch 00024: ReduceLROnPlateau reducing learning rate to 1e-07.\n",
            "937/937 [==============================] - 28s 29ms/step - loss: 0.0099 - accuracy: 0.9968 - val_loss: 0.0135 - val_accuracy: 0.9960 - lr: 1.0000e-07\n",
            "Epoch 25/30\n",
            "937/937 [==============================] - ETA: 0s - loss: 0.0101 - accuracy: 0.9966\n",
            "Epoch 00025: ReduceLROnPlateau reducing learning rate to 1e-07.\n",
            "937/937 [==============================] - 28s 30ms/step - loss: 0.0101 - accuracy: 0.9966 - val_loss: 0.0135 - val_accuracy: 0.9960 - lr: 1.0000e-07\n",
            "Epoch 26/30\n",
            "937/937 [==============================] - ETA: 0s - loss: 0.0101 - accuracy: 0.9967\n",
            "Epoch 00026: ReduceLROnPlateau reducing learning rate to 1e-07.\n",
            "937/937 [==============================] - 28s 30ms/step - loss: 0.0101 - accuracy: 0.9967 - val_loss: 0.0135 - val_accuracy: 0.9960 - lr: 1.0000e-07\n",
            "Epoch 27/30\n",
            "936/937 [============================>.] - ETA: 0s - loss: 0.0108 - accuracy: 0.9966\n",
            "Epoch 00027: ReduceLROnPlateau reducing learning rate to 1e-07.\n",
            "937/937 [==============================] - 28s 29ms/step - loss: 0.0108 - accuracy: 0.9966 - val_loss: 0.0135 - val_accuracy: 0.9960 - lr: 1.0000e-07\n",
            "Epoch 28/30\n",
            "937/937 [==============================] - ETA: 0s - loss: 0.0097 - accuracy: 0.9969\n",
            "Epoch 00028: ReduceLROnPlateau reducing learning rate to 1e-07.\n",
            "937/937 [==============================] - 28s 30ms/step - loss: 0.0097 - accuracy: 0.9969 - val_loss: 0.0135 - val_accuracy: 0.9960 - lr: 1.0000e-07\n",
            "Epoch 29/30\n",
            "937/937 [==============================] - ETA: 0s - loss: 0.0105 - accuracy: 0.9968\n",
            "Epoch 00029: ReduceLROnPlateau reducing learning rate to 1e-07.\n",
            "937/937 [==============================] - 27s 29ms/step - loss: 0.0105 - accuracy: 0.9968 - val_loss: 0.0135 - val_accuracy: 0.9960 - lr: 1.0000e-07\n",
            "Epoch 30/30\n",
            "936/937 [============================>.] - ETA: 0s - loss: 0.0111 - accuracy: 0.9968\n",
            "Epoch 00030: ReduceLROnPlateau reducing learning rate to 1e-07.\n",
            "937/937 [==============================] - 27s 29ms/step - loss: 0.0112 - accuracy: 0.9968 - val_loss: 0.0135 - val_accuracy: 0.9960 - lr: 1.0000e-07\n"
          ],
          "name": "stdout"
        }
      ]
    },
    {
      "cell_type": "code",
      "metadata": {
        "id": "3zWzONoLIk11",
        "colab_type": "code",
        "colab": {
          "base_uri": "https://localhost:8080/",
          "height": 108
        },
        "outputId": "dcf5924b-5e23-4c0c-999f-e4d732fe4501"
      },
      "source": [
        "# Save the model\n",
        "model.save('classify_digit_conv.model')"
      ],
      "execution_count": 18,
      "outputs": [
        {
          "output_type": "stream",
          "text": [
            "WARNING:tensorflow:From /usr/local/lib/python3.6/dist-packages/tensorflow/python/ops/resource_variable_ops.py:1817: calling BaseResourceVariable.__init__ (from tensorflow.python.ops.resource_variable_ops) with constraint is deprecated and will be removed in a future version.\n",
            "Instructions for updating:\n",
            "If using Keras pass *_constraint arguments to layers.\n",
            "INFO:tensorflow:Assets written to: classify_digit_conv.model/assets\n"
          ],
          "name": "stdout"
        }
      ]
    },
    {
      "cell_type": "code",
      "metadata": {
        "id": "7oWlmEBxI18n",
        "colab_type": "code",
        "colab": {}
      },
      "source": [
        "new_model = tf.keras.models.load_model('classify_digit_conv.model')"
      ],
      "execution_count": 19,
      "outputs": []
    },
    {
      "cell_type": "code",
      "metadata": {
        "id": "uUInapquI2yM",
        "colab_type": "code",
        "colab": {
          "base_uri": "https://localhost:8080/",
          "height": 301
        },
        "outputId": "07ada3bf-428c-4dc4-ae03-0b7a04175172"
      },
      "source": [
        "# Make predictions\n",
        "predictions = new_model.predict(X_test)\n",
        "\n",
        "test_example = 140\n",
        "print(np.argmax(predictions[test_example]))\n",
        "plt.imshow(x_test[test_example], cmap=plt.cm.binary)\n",
        "plt.show"
      ],
      "execution_count": 20,
      "outputs": [
        {
          "output_type": "stream",
          "text": [
            "6\n"
          ],
          "name": "stdout"
        },
        {
          "output_type": "execute_result",
          "data": {
            "text/plain": [
              "<function matplotlib.pyplot.show>"
            ]
          },
          "metadata": {
            "tags": []
          },
          "execution_count": 20
        },
        {
          "output_type": "display_data",
          "data": {
            "image/png": "[encoded data removed]",
            "text/plain": [
              "<Figure size 432x288 with 1 Axes>"
            ]
          },
          "metadata": {
            "tags": [],
            "needs_background": "light"
          }
        }
      ]
    },
    {
      "cell_type": "code",
      "metadata": {
        "id": "mnwNIHxsKLmz",
        "colab_type": "code",
        "colab": {
          "base_uri": "https://localhost:8080/",
          "height": 142
        },
        "outputId": "cc9a7353-63ef-4b3b-b717-fc7755aace2f"
      },
      "source": [
        "from google.colab import files\n",
        "!zip -r /content/model.zip /content/classify_digit_conv.model\n",
        "files.download(\"/content/model.zip\")"
      ],
      "execution_count": 21,
      "outputs": [
        {
          "output_type": "stream",
          "text": [
            "  adding: content/classify_digit_conv.model/ (stored 0%)\n",
            "  adding: content/classify_digit_conv.model/assets/ (stored 0%)\n",
            "  adding: content/classify_digit_conv.model/variables/ (stored 0%)\n",
            "  adding: content/classify_digit_conv.model/variables/variables.data-00000-of-00002 (deflated 81%)\n",
            "  adding: content/classify_digit_conv.model/variables/variables.data-00001-of-00002 (deflated 7%)\n",
            "  adding: content/classify_digit_conv.model/variables/variables.index (deflated 68%)\n",
            "  adding: content/classify_digit_conv.model/saved_model.pb (deflated 89%)\n"
          ],
          "name": "stdout"
        },
        {
          "output_type": "display_data",
          "data": {
            "application/javascript": [
              "\n",
              "    async function download(id, filename, size) {\n",
              "      if (!google.colab.kernel.accessAllowed) {\n",
              "        return;\n",
              "      }\n",
              "      const div = document.createElement('div');\n",
              "      const label = document.createElement('label');\n",
              "      label.textContent = `Downloading \"${filename}\": `;\n",
              "      div.appendChild(label);\n",
              "      const progress = document.createElement('progress');\n",
              "      progress.max = size;\n",
              "      div.appendChild(progress);\n",
              "      document.body.appendChild(div);\n",
              "\n",
              "      const buffers = [];\n",
              "      let downloaded = 0;\n",
              "\n",
              "      const channel = await google.colab.kernel.comms.open(id);\n",
              "      // Send a message to notify the kernel that we're ready.\n",
              "      channel.send({})\n",
              "\n",
              "      for await (const message of channel.messages) {\n",
              "        // Send a message to notify the kernel that we're ready.\n",
              "        channel.send({})\n",
              "        if (message.buffers) {\n",
              "          for (const buffer of message.buffers) {\n",
              "            buffers.push(buffer);\n",
              "            downloaded += buffer.byteLength;\n",
              "            progress.value = downloaded;\n",
              "          }\n",
              "        }\n",
              "      }\n",
              "      const blob = new Blob(buffers, {type: 'application/binary'});\n",
              "      const a = document.createElement('a');\n",
              "      a.href = window.URL.createObjectURL(blob);\n",
              "      a.download = filename;\n",
              "      div.appendChild(a);\n",
              "      a.click();\n",
              "      div.remove();\n",
              "    }\n",
              "  "
            ],
            "text/plain": [
              "<IPython.core.display.Javascript object>"
            ]
          },
          "metadata": {
            "tags": []
          }
        },
        {
          "output_type": "display_data",
          "data": {
            "application/javascript": [
              "download(\"download_7884b61c-9404-4668-a440-6bef2d07a6c1\", \"model.zip\", 7143364)"
            ],
            "text/plain": [
              "<IPython.core.display.Javascript object>"
            ]
          },
          "metadata": {
            "tags": []
          }
        }
      ]
    },
    {
      "cell_type": "code",
      "metadata": {
        "id": "Hpq_VZjuLCMT",
        "colab_type": "code",
        "colab": {}
      },
      "source": [
        ""
      ],
      "execution_count": null,
      "outputs": []
    }
  ]
}