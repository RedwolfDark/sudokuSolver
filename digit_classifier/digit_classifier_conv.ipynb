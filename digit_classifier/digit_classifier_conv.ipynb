{
  "nbformat": 4,
  "nbformat_minor": 0,
  "metadata": {
    "colab": {
      "name": "digit_classifier_conv.ipynb",
      "provenance": [],
      "authorship_tag": "ABX9TyO2YObd4cUbCzU3Phh2VYau",
      "include_colab_link": true
    },
    "kernelspec": {
      "name": "python3",
      "display_name": "Python 3"
    },
    "accelerator": "GPU"
  },
  "cells": [
    {
      "cell_type": "markdown",
      "metadata": {
        "id": "view-in-github",
        "colab_type": "text"
      },
      "source": [
        "<a href=\"https://colab.research.google.com/github/saharshleo/sudokuSolver/blob/master/digit_classifier/digit_classifier_conv.ipynb\" target=\"_parent\"><img src=\"https://colab.research.google.com/assets/colab-badge.svg\" alt=\"Open In Colab\"/></a>"
      ]
    },
    {
      "cell_type": "code",
      "metadata": {
        "id": "EQELR5-hGf2Z",
        "colab_type": "code",
        "colab": {
          "base_uri": "https://localhost:8080/",
          "height": 35
        },
        "outputId": "e971d31f-212c-4ef9-b01f-fcb40ee90c71"
      },
      "source": [
        "import tensorflow as tf\n",
        "from tensorflow.keras.layers import Dense, Dropout, Flatten, Conv2D, MaxPool2D, BatchNormalization\n",
        "from tensorflow.keras.optimizers import Adam\n",
        "from tensorflow.keras.utils import to_categorical # convert to one-hot-encoding\n",
        "from tensorflow.keras.preprocessing.image import ImageDataGenerator\n",
        "from tensorflow.keras.callbacks import LearningRateScheduler\n",
        "\n",
        "import numpy as np\n",
        "%matplotlib inline\n",
        "import matplotlib.pyplot as plt\n",
        "\n",
        "print(tf.__version__)"
      ],
      "execution_count": 2,
      "outputs": [
        {
          "output_type": "stream",
          "text": [
            "2.2.0\n"
          ],
          "name": "stdout"
        }
      ]
    },
    {
      "cell_type": "code",
      "metadata": {
        "id": "LuLtiL5YHET-",
        "colab_type": "code",
        "colab": {
          "base_uri": "https://localhost:8080/",
          "height": 88
        },
        "outputId": "dc4d8092-dd9c-4826-b547-f976413d6cf5"
      },
      "source": [
        "# load data\n",
        "mnist = tf.keras.datasets.mnist\n",
        "(x_train, y_train), (x_test, y_test) = mnist.load_data()\n",
        "print(x_train.shape)\n",
        "print(x_test.shape)"
      ],
      "execution_count": 3,
      "outputs": [
        {
          "output_type": "stream",
          "text": [
            "Downloading data from https://storage.googleapis.com/tensorflow/tf-keras-datasets/mnist.npz\n",
            "11493376/11490434 [==============================] - 0s 0us/step\n",
            "(60000, 28, 28)\n",
            "(10000, 28, 28)\n"
          ],
          "name": "stdout"
        }
      ]
    },
    {
      "cell_type": "code",
      "metadata": {
        "id": "SDpMsTpfHPh0",
        "colab_type": "code",
        "colab": {}
      },
      "source": [
        "# normalize data\n",
        "x_train = tf.keras.utils.normalize(x_train, axis=1)\n",
        "x_test = tf.keras.utils.normalize(x_test, axis=1)"
      ],
      "execution_count": 4,
      "outputs": []
    },
    {
      "cell_type": "code",
      "metadata": {
        "id": "-teFclUbHTcz",
        "colab_type": "code",
        "colab": {
          "base_uri": "https://localhost:8080/",
          "height": 88
        },
        "outputId": "0bab5152-0e81-4cfe-cb08-e76ba9c4919c"
      },
      "source": [
        "# Reshape\n",
        "X_train = x_train.reshape(-1,28,28,1)\n",
        "X_test = x_test.reshape(-1,28,28,1)\n",
        "\n",
        "print(X_train.shape)\n",
        "print(X_test.shape)\n",
        "\n",
        "# Encode labels to one hot vectors (ex : 2 -> [0,0,1,0,0,0,0,0,0,0])\n",
        "Y_train_value = y_train # keep the origianl label\n",
        "Y_train = to_categorical(y_train, num_classes = 10)\n",
        "# Y_train = tf.keras.backend.one_hot(y_train, num_classes=10)\n",
        "print(Y_train.shape)\n",
        "\n",
        "Y_test_value = y_test # keep the origianl label\n",
        "Y_test = to_categorical(y_test, num_classes = 10)\n",
        "# Y_test = tf.keras.backend.one_hot(y_test, num_classes=10)\n",
        "print(Y_test.shape)"
      ],
      "execution_count": 5,
      "outputs": [
        {
          "output_type": "stream",
          "text": [
            "(60000, 28, 28, 1)\n",
            "(10000, 28, 28, 1)\n",
            "(60000, 10)\n",
            "(10000, 10)\n"
          ],
          "name": "stdout"
        }
      ]
    },
    {
      "cell_type": "code",
      "metadata": {
        "id": "Cr4hc17RIDUf",
        "colab_type": "code",
        "colab": {}
      },
      "source": [
        "# With data augmentation to prevent overfitting\n",
        "datagen = ImageDataGenerator(\n",
        "        rotation_range=10,  # randomly rotate images in the range (degrees, 0 to 180)\n",
        "        zoom_range = 0.1, # Randomly zoom image \n",
        "        width_shift_range=0.1,  # randomly shift images horizontally (fraction of total width)\n",
        "        height_shift_range=0.1)  # randomly shift images vertically (fraction of total height)\n",
        "\n",
        "datagen.fit(X_train)"
      ],
      "execution_count": 6,
      "outputs": []
    },
    {
      "cell_type": "code",
      "metadata": {
        "id": "3VEGnq_vHsX2",
        "colab_type": "code",
        "colab": {}
      },
      "source": [
        "# Callback for stop training after threshold accuracy\n",
        "ACCURACY_THRESHOLD = 0.99\n",
        "class CustomCallback(tf.keras.callbacks.Callback):\n",
        "    def on_epoch_end(self, epoch, logs={}):\n",
        "        if(logs.get('accuracy') > ACCURACY_THRESHOLD):\n",
        "            print(\"\\nReached %2.2f%% accuracy, stopping training!\"%(ACCURACY_THRESHOLD*100))\n",
        "            self.model.stop_training = True\n",
        "            \n",
        "callbacks = CustomCallback()\n",
        "\n",
        "es = tf.keras.callbacks.EarlyStopping(monitor='val_loss', mode='min', verbose=1)\n",
        "\n",
        "# Set a learning rate annealer\n",
        "annealer = LearningRateScheduler(lambda x: 1e-3 * 0.9 ** x)"
      ],
      "execution_count": 7,
      "outputs": []
    },
    {
      "cell_type": "code",
      "metadata": {
        "id": "tHZCtUMWHnZJ",
        "colab_type": "code",
        "colab": {
          "base_uri": "https://localhost:8080/",
          "height": 803
        },
        "outputId": "a455f94f-24ab-4dae-d662-89ebacbdb39d"
      },
      "source": [
        "# Conv model https://www.kaggle.com/dingli/digits-recognition-with-cnn-keras\n",
        "model = tf.keras.models.Sequential()\n",
        "model.add(Conv2D(filters=16, kernel_size=(3,3), activation='relu', input_shape=(28, 28, 1)))\n",
        "model.add(BatchNormalization())\n",
        "model.add(Conv2D(filters = 16, kernel_size = (3, 3), activation='relu'))\n",
        "model.add(BatchNormalization())\n",
        "model.add(MaxPool2D(strides=(2,2)))\n",
        "model.add(Dropout(0.25))\n",
        "\n",
        "model.add(Conv2D(filters = 32, kernel_size = (3, 3), activation='relu'))\n",
        "model.add(BatchNormalization())\n",
        "model.add(Conv2D(filters = 32, kernel_size = (3, 3), activation='relu'))\n",
        "model.add(BatchNormalization())\n",
        "model.add(MaxPool2D(strides=(2,2)))\n",
        "model.add(Dropout(0.25))\n",
        "\n",
        "model.add(Flatten())\n",
        "model.add(Dense(512, activation='relu'))\n",
        "model.add(Dropout(0.25))\n",
        "model.add(Dense(1024, activation='relu'))\n",
        "model.add(Dropout(0.5))\n",
        "model.add(Dense(10, activation='softmax'))\n",
        "model.summary()"
      ],
      "execution_count": 8,
      "outputs": [
        {
          "output_type": "stream",
          "text": [
            "Model: \"sequential\"\n",
            "_________________________________________________________________\n",
            "Layer (type)                 Output Shape              Param #   \n",
            "=================================================================\n",
            "conv2d (Conv2D)              (None, 26, 26, 16)        160       \n",
            "_________________________________________________________________\n",
            "batch_normalization (BatchNo (None, 26, 26, 16)        64        \n",
            "_________________________________________________________________\n",
            "conv2d_1 (Conv2D)            (None, 24, 24, 16)        2320      \n",
            "_________________________________________________________________\n",
            "batch_normalization_1 (Batch (None, 24, 24, 16)        64        \n",
            "_________________________________________________________________\n",
            "max_pooling2d (MaxPooling2D) (None, 12, 12, 16)        0         \n",
            "_________________________________________________________________\n",
            "dropout (Dropout)            (None, 12, 12, 16)        0         \n",
            "_________________________________________________________________\n",
            "conv2d_2 (Conv2D)            (None, 10, 10, 32)        4640      \n",
            "_________________________________________________________________\n",
            "batch_normalization_2 (Batch (None, 10, 10, 32)        128       \n",
            "_________________________________________________________________\n",
            "conv2d_3 (Conv2D)            (None, 8, 8, 32)          9248      \n",
            "_________________________________________________________________\n",
            "batch_normalization_3 (Batch (None, 8, 8, 32)          128       \n",
            "_________________________________________________________________\n",
            "max_pooling2d_1 (MaxPooling2 (None, 4, 4, 32)          0         \n",
            "_________________________________________________________________\n",
            "dropout_1 (Dropout)          (None, 4, 4, 32)          0         \n",
            "_________________________________________________________________\n",
            "flatten (Flatten)            (None, 512)               0         \n",
            "_________________________________________________________________\n",
            "dense (Dense)                (None, 512)               262656    \n",
            "_________________________________________________________________\n",
            "dropout_2 (Dropout)          (None, 512)               0         \n",
            "_________________________________________________________________\n",
            "dense_1 (Dense)              (None, 1024)              525312    \n",
            "_________________________________________________________________\n",
            "dropout_3 (Dropout)          (None, 1024)              0         \n",
            "_________________________________________________________________\n",
            "dense_2 (Dense)              (None, 10)                10250     \n",
            "=================================================================\n",
            "Total params: 814,970\n",
            "Trainable params: 814,778\n",
            "Non-trainable params: 192\n",
            "_________________________________________________________________\n"
          ],
          "name": "stdout"
        }
      ]
    },
    {
      "cell_type": "code",
      "metadata": {
        "id": "L6124FYTIVjH",
        "colab_type": "code",
        "colab": {}
      },
      "source": [
        "# Define the optimizer\n",
        "optimizer = Adam(lr=1e-4)\n",
        "\n",
        "# Compile the model\n",
        "model.compile(optimizer = optimizer , loss = \"categorical_crossentropy\", metrics=[\"accuracy\"])"
      ],
      "execution_count": 9,
      "outputs": []
    },
    {
      "cell_type": "code",
      "metadata": {
        "id": "oqTXGb70H0cJ",
        "colab_type": "code",
        "colab": {}
      },
      "source": [
        "# Turn epochs to 30 to get 0.9967 accuracy\n",
        "epochs = 30\n",
        "batch_size = 86"
      ],
      "execution_count": 10,
      "outputs": []
    },
    {
      "cell_type": "code",
      "metadata": {
        "id": "e4_EtqjpIWqW",
        "colab_type": "code",
        "colab": {
          "base_uri": "https://localhost:8080/",
          "height": 1000
        },
        "outputId": "dddaa00f-c30a-4ece-c34d-25676e62f4a4"
      },
      "source": [
        "# Fit the model\n",
        "history = model.fit_generator(datagen.flow(X_train,Y_train, batch_size=batch_size),\n",
        "                              epochs = epochs, validation_data = (X_test,Y_test),\n",
        "                              verbose = 1, steps_per_epoch=X_train.shape[0] // batch_size\n",
        "                              , callbacks=[annealer])"
      ],
      "execution_count": 11,
      "outputs": [
        {
          "output_type": "stream",
          "text": [
            "WARNING:tensorflow:From <ipython-input-11-980ecf1a6a51>:5: Model.fit_generator (from tensorflow.python.keras.engine.training) is deprecated and will be removed in a future version.\n",
            "Instructions for updating:\n",
            "Please use Model.fit, which supports generators.\n",
            "Epoch 1/30\n",
            "697/697 [==============================] - 26s 37ms/step - loss: 0.3626 - accuracy: 0.8848 - val_loss: 0.0467 - val_accuracy: 0.9856 - lr: 0.0010\n",
            "Epoch 2/30\n",
            "697/697 [==============================] - 26s 37ms/step - loss: 0.1231 - accuracy: 0.9629 - val_loss: 0.0664 - val_accuracy: 0.9792 - lr: 9.0000e-04\n",
            "Epoch 3/30\n",
            "697/697 [==============================] - 26s 37ms/step - loss: 0.0977 - accuracy: 0.9710 - val_loss: 0.0279 - val_accuracy: 0.9920 - lr: 8.1000e-04\n",
            "Epoch 4/30\n",
            "697/697 [==============================] - 26s 37ms/step - loss: 0.0815 - accuracy: 0.9758 - val_loss: 0.0238 - val_accuracy: 0.9923 - lr: 7.2900e-04\n",
            "Epoch 5/30\n",
            "697/697 [==============================] - 25s 36ms/step - loss: 0.0752 - accuracy: 0.9783 - val_loss: 0.0215 - val_accuracy: 0.9932 - lr: 6.5610e-04\n",
            "Epoch 6/30\n",
            "697/697 [==============================] - 26s 37ms/step - loss: 0.0673 - accuracy: 0.9799 - val_loss: 0.0285 - val_accuracy: 0.9909 - lr: 5.9049e-04\n",
            "Epoch 7/30\n",
            "697/697 [==============================] - 26s 37ms/step - loss: 0.0630 - accuracy: 0.9817 - val_loss: 0.0240 - val_accuracy: 0.9922 - lr: 5.3144e-04\n",
            "Epoch 8/30\n",
            "697/697 [==============================] - 26s 37ms/step - loss: 0.0563 - accuracy: 0.9832 - val_loss: 0.0199 - val_accuracy: 0.9936 - lr: 4.7830e-04\n",
            "Epoch 9/30\n",
            "697/697 [==============================] - 25s 36ms/step - loss: 0.0505 - accuracy: 0.9845 - val_loss: 0.0150 - val_accuracy: 0.9948 - lr: 4.3047e-04\n",
            "Epoch 10/30\n",
            "697/697 [==============================] - 25s 36ms/step - loss: 0.0487 - accuracy: 0.9856 - val_loss: 0.0147 - val_accuracy: 0.9947 - lr: 3.8742e-04\n",
            "Epoch 11/30\n",
            "697/697 [==============================] - 26s 37ms/step - loss: 0.0459 - accuracy: 0.9865 - val_loss: 0.0167 - val_accuracy: 0.9946 - lr: 3.4868e-04\n",
            "Epoch 12/30\n",
            "697/697 [==============================] - 26s 37ms/step - loss: 0.0432 - accuracy: 0.9866 - val_loss: 0.0147 - val_accuracy: 0.9949 - lr: 3.1381e-04\n",
            "Epoch 13/30\n",
            "697/697 [==============================] - 26s 37ms/step - loss: 0.0430 - accuracy: 0.9877 - val_loss: 0.0143 - val_accuracy: 0.9949 - lr: 2.8243e-04\n",
            "Epoch 14/30\n",
            "697/697 [==============================] - 26s 37ms/step - loss: 0.0377 - accuracy: 0.9886 - val_loss: 0.0145 - val_accuracy: 0.9955 - lr: 2.5419e-04\n",
            "Epoch 15/30\n",
            "697/697 [==============================] - 26s 37ms/step - loss: 0.0369 - accuracy: 0.9894 - val_loss: 0.0137 - val_accuracy: 0.9960 - lr: 2.2877e-04\n",
            "Epoch 16/30\n",
            "697/697 [==============================] - 26s 37ms/step - loss: 0.0354 - accuracy: 0.9895 - val_loss: 0.0121 - val_accuracy: 0.9967 - lr: 2.0589e-04\n",
            "Epoch 17/30\n",
            "697/697 [==============================] - 25s 36ms/step - loss: 0.0335 - accuracy: 0.9898 - val_loss: 0.0127 - val_accuracy: 0.9956 - lr: 1.8530e-04\n",
            "Epoch 18/30\n",
            "697/697 [==============================] - 25s 37ms/step - loss: 0.0322 - accuracy: 0.9904 - val_loss: 0.0130 - val_accuracy: 0.9957 - lr: 1.6677e-04\n",
            "Epoch 19/30\n",
            "697/697 [==============================] - 25s 36ms/step - loss: 0.0307 - accuracy: 0.9907 - val_loss: 0.0124 - val_accuracy: 0.9962 - lr: 1.5009e-04\n",
            "Epoch 20/30\n",
            "697/697 [==============================] - 25s 36ms/step - loss: 0.0313 - accuracy: 0.9909 - val_loss: 0.0121 - val_accuracy: 0.9961 - lr: 1.3509e-04\n",
            "Epoch 21/30\n",
            "697/697 [==============================] - 25s 36ms/step - loss: 0.0307 - accuracy: 0.9908 - val_loss: 0.0109 - val_accuracy: 0.9967 - lr: 1.2158e-04\n",
            "Epoch 22/30\n",
            "697/697 [==============================] - 25s 36ms/step - loss: 0.0289 - accuracy: 0.9910 - val_loss: 0.0113 - val_accuracy: 0.9967 - lr: 1.0942e-04\n",
            "Epoch 23/30\n",
            "697/697 [==============================] - 26s 37ms/step - loss: 0.0277 - accuracy: 0.9918 - val_loss: 0.0114 - val_accuracy: 0.9962 - lr: 9.8477e-05\n",
            "Epoch 24/30\n",
            "697/697 [==============================] - 25s 36ms/step - loss: 0.0276 - accuracy: 0.9913 - val_loss: 0.0108 - val_accuracy: 0.9967 - lr: 8.8629e-05\n",
            "Epoch 25/30\n",
            "697/697 [==============================] - 25s 36ms/step - loss: 0.0284 - accuracy: 0.9917 - val_loss: 0.0108 - val_accuracy: 0.9969 - lr: 7.9766e-05\n",
            "Epoch 26/30\n",
            "697/697 [==============================] - 25s 36ms/step - loss: 0.0275 - accuracy: 0.9918 - val_loss: 0.0110 - val_accuracy: 0.9965 - lr: 7.1790e-05\n",
            "Epoch 27/30\n",
            "697/697 [==============================] - 25s 36ms/step - loss: 0.0251 - accuracy: 0.9921 - val_loss: 0.0106 - val_accuracy: 0.9965 - lr: 6.4611e-05\n",
            "Epoch 28/30\n",
            "697/697 [==============================] - 25s 36ms/step - loss: 0.0270 - accuracy: 0.9920 - val_loss: 0.0112 - val_accuracy: 0.9965 - lr: 5.8150e-05\n",
            "Epoch 29/30\n",
            "697/697 [==============================] - 25s 36ms/step - loss: 0.0249 - accuracy: 0.9923 - val_loss: 0.0108 - val_accuracy: 0.9962 - lr: 5.2335e-05\n",
            "Epoch 30/30\n",
            "697/697 [==============================] - 25s 36ms/step - loss: 0.0250 - accuracy: 0.9921 - val_loss: 0.0103 - val_accuracy: 0.9967 - lr: 4.7101e-05\n"
          ],
          "name": "stdout"
        }
      ]
    },
    {
      "cell_type": "code",
      "metadata": {
        "id": "3zWzONoLIk11",
        "colab_type": "code",
        "colab": {
          "base_uri": "https://localhost:8080/",
          "height": 108
        },
        "outputId": "5b040c91-d76d-4781-defd-19ed92860734"
      },
      "source": [
        "# Save the model\n",
        "model.save('classify_digit_conv.model')"
      ],
      "execution_count": 12,
      "outputs": [
        {
          "output_type": "stream",
          "text": [
            "WARNING:tensorflow:From /usr/local/lib/python3.6/dist-packages/tensorflow/python/ops/resource_variable_ops.py:1817: calling BaseResourceVariable.__init__ (from tensorflow.python.ops.resource_variable_ops) with constraint is deprecated and will be removed in a future version.\n",
            "Instructions for updating:\n",
            "If using Keras pass *_constraint arguments to layers.\n",
            "INFO:tensorflow:Assets written to: classify_digit_conv.model/assets\n"
          ],
          "name": "stdout"
        }
      ]
    },
    {
      "cell_type": "code",
      "metadata": {
        "id": "7oWlmEBxI18n",
        "colab_type": "code",
        "colab": {}
      },
      "source": [
        "new_model = tf.keras.models.load_model('classify_digit_conv.model')"
      ],
      "execution_count": 13,
      "outputs": []
    },
    {
      "cell_type": "code",
      "metadata": {
        "id": "uUInapquI2yM",
        "colab_type": "code",
        "colab": {
          "base_uri": "https://localhost:8080/",
          "height": 301
        },
        "outputId": "363edd01-dfde-4950-e142-f28cfa4a5ce3"
      },
      "source": [
        "# Make predictions\n",
        "predictions = new_model.predict(X_test)\n",
        "\n",
        "test_example = 140\n",
        "print(np.argmax(predictions[test_example]))\n",
        "plt.imshow(x_test[test_example], cmap=plt.cm.binary)\n",
        "plt.show"
      ],
      "execution_count": 14,
      "outputs": [
        {
          "output_type": "stream",
          "text": [
            "6\n"
          ],
          "name": "stdout"
        },
        {
          "output_type": "execute_result",
          "data": {
            "text/plain": [
              "<function matplotlib.pyplot.show>"
            ]
          },
          "metadata": {
            "tags": []
          },
          "execution_count": 14
        },
        {
          "output_type": "display_data",
          "data": {
            "image/png": "[encoded data removed]",
            "text/plain": [
              "<Figure size 432x288 with 1 Axes>"
            ]
          },
          "metadata": {
            "tags": [],
            "needs_background": "light"
          }
        }
      ]
    },
    {
      "cell_type": "code",
      "metadata": {
        "id": "mnwNIHxsKLmz",
        "colab_type": "code",
        "colab": {
          "base_uri": "https://localhost:8080/",
          "height": 142
        },
        "outputId": "ec8472d7-5660-49e7-c442-333ef6fe9b85"
      },
      "source": [
        "from google.colab import files\n",
        "!zip -r /content/model.zip /content/classify_digit_conv.model\n",
        "files.download(\"/content/model.zip\")"
      ],
      "execution_count": 15,
      "outputs": [
        {
          "output_type": "stream",
          "text": [
            "  adding: content/classify_digit_conv.model/ (stored 0%)\n",
            "  adding: content/classify_digit_conv.model/assets/ (stored 0%)\n",
            "  adding: content/classify_digit_conv.model/variables/ (stored 0%)\n",
            "  adding: content/classify_digit_conv.model/variables/variables.data-00001-of-00002 (deflated 7%)\n",
            "  adding: content/classify_digit_conv.model/variables/variables.index (deflated 73%)\n",
            "  adding: content/classify_digit_conv.model/variables/variables.data-00000-of-00002 (deflated 82%)\n",
            "  adding: content/classify_digit_conv.model/saved_model.pb (deflated 91%)\n"
          ],
          "name": "stdout"
        },
        {
          "output_type": "display_data",
          "data": {
            "application/javascript": [
              "\n",
              "    async function download(id, filename, size) {\n",
              "      if (!google.colab.kernel.accessAllowed) {\n",
              "        return;\n",
              "      }\n",
              "      const div = document.createElement('div');\n",
              "      const label = document.createElement('label');\n",
              "      label.textContent = `Downloading \"${filename}\": `;\n",
              "      div.appendChild(label);\n",
              "      const progress = document.createElement('progress');\n",
              "      progress.max = size;\n",
              "      div.appendChild(progress);\n",
              "      document.body.appendChild(div);\n",
              "\n",
              "      const buffers = [];\n",
              "      let downloaded = 0;\n",
              "\n",
              "      const channel = await google.colab.kernel.comms.open(id);\n",
              "      // Send a message to notify the kernel that we're ready.\n",
              "      channel.send({})\n",
              "\n",
              "      for await (const message of channel.messages) {\n",
              "        // Send a message to notify the kernel that we're ready.\n",
              "        channel.send({})\n",
              "        if (message.buffers) {\n",
              "          for (const buffer of message.buffers) {\n",
              "            buffers.push(buffer);\n",
              "            downloaded += buffer.byteLength;\n",
              "            progress.value = downloaded;\n",
              "          }\n",
              "        }\n",
              "      }\n",
              "      const blob = new Blob(buffers, {type: 'application/binary'});\n",
              "      const a = document.createElement('a');\n",
              "      a.href = window.URL.createObjectURL(blob);\n",
              "      a.download = filename;\n",
              "      div.appendChild(a);\n",
              "      a.click();\n",
              "      div.remove();\n",
              "    }\n",
              "  "
            ],
            "text/plain": [
              "<IPython.core.display.Javascript object>"
            ]
          },
          "metadata": {
            "tags": []
          }
        },
        {
          "output_type": "display_data",
          "data": {
            "application/javascript": [
              "download(\"download_f02158e9-79cb-4588-9997-45db6769982e\", \"model.zip\", 9152555)"
            ],
            "text/plain": [
              "<IPython.core.display.Javascript object>"
            ]
          },
          "metadata": {
            "tags": []
          }
        }
      ]
    },
    {
      "cell_type": "code",
      "metadata": {
        "id": "Hpq_VZjuLCMT",
        "colab_type": "code",
        "colab": {}
      },
      "source": [
        ""
      ],
      "execution_count": null,
      "outputs": []
    }
  ]
}